{
 "cells": [
  {
   "cell_type": "code",
   "execution_count": 57,
   "metadata": {},
   "outputs": [
    {
     "name": "stdout",
     "output_type": "stream",
     "text": [
      "H\n"
     ]
    }
   ],
   "source": [
    "a = \"Hello World!\"\n",
    "print(a[0])"
   ]
  },
  {
   "cell_type": "code",
   "execution_count": 8,
   "metadata": {},
   "outputs": [
    {
     "name": "stdout",
     "output_type": "stream",
     "text": [
      "John\n",
      "36\n"
     ]
    }
   ],
   "source": [
    "class Person:\n",
    "    def __init__(self, name, age):\n",
    "        self.name = name\n",
    "        self.age = age\n",
    "\n",
    "p1 = Person(\"John\", 36)\n",
    "print(p1.name)\n",
    "print(p1.age)"
   ]
  },
  {
   "cell_type": "code",
   "execution_count": 21,
   "metadata": {},
   "outputs": [
    {
     "name": "stdout",
     "output_type": "stream",
     "text": [
      "Enter the numbers: 1 2 3\n",
      "All possible permutations are: [['1'], ['2'], ['3'], ['1'], ['2'], ['3'], ['1'], ['2'], ['3'], ['1'], ['2'], ['3'], ['1'], ['2'], ['3'], ['1'], ['2'], ['3']]\n"
     ]
    }
   ],
   "source": []
  },
  {
   "cell_type": "code",
   "execution_count": 35,
   "metadata": {},
   "outputs": [
    {
     "name": "stdout",
     "output_type": "stream",
     "text": [
      "Enter numbers: 1 2 3\n",
      "[('1', '2', '3'), ('1', '3', '2'), ('2', '1', '3'), ('2', '3', '1'), ('3', '1', '2'), ('3', '2', '1')]\n"
     ]
    }
   ],
   "source": [
    "l = []\n",
    "usrlist = input(\"Enter numbers: \")\n",
    "newlist = usrlist.split()\n",
    "x = len(newlist)\n",
    "from itertools import permutations\n",
    "l = list(permutations(newlist))\n",
    "print(l)"
   ]
  },
  {
   "cell_type": "code",
   "execution_count": 53,
   "metadata": {},
   "outputs": [
    {
     "name": "stdout",
     "output_type": "stream",
     "text": [
      "Enter the number: \n",
      "5\n",
      "[1, 1, 2, 3, 5]\n"
     ]
    }
   ],
   "source": [
    "print(\"Enter the number: \")\n",
    "n = int(input())\n",
    "import array\n",
    "l = [1, 1]\n",
    "for i in range(0, n-2):\n",
    "    x = l[-1] + l[-2]\n",
    "    l.append(x);\n",
    "print(l)\n"
   ]
  },
  {
   "cell_type": "code",
   "execution_count": 66,
   "metadata": {},
   "outputs": [
    {
     "name": "stdout",
     "output_type": "stream",
     "text": [
      "Enter the number: \n",
      "4\n",
      "1\n",
      "1 2\n",
      "3 5 8\n",
      "13 21 34 55\n"
     ]
    }
   ],
   "source": [
    "print(\"Enter the number: \")\n",
    "n = int(input())\n",
    "sum = 0\n",
    "s = []\n",
    "for j in range(1, n+1):\n",
    "    sum = sum + j\n",
    "l = [1, 1]\n",
    "for i in range(0, sum-2):\n",
    "    x = l[-1] + l[-2]\n",
    "    l.append(x);\n",
    "m=0\n",
    "for k in range(1, n+1):\n",
    "    for t in range(1, k+1):\n",
    "        s.append(l[m])\n",
    "        m=m+1\n",
    "    print(*s)\n",
    "    s.clear()\n",
    "    "
   ]
  }
 ],
 "metadata": {
  "kernelspec": {
   "display_name": "Python 3",
   "language": "python",
   "name": "python3"
  },
  "language_info": {
   "codemirror_mode": {
    "name": "ipython",
    "version": 3
   },
   "file_extension": ".py",
   "mimetype": "text/x-python",
   "name": "python",
   "nbconvert_exporter": "python",
   "pygments_lexer": "ipython3",
   "version": "3.7.4"
  }
 },
 "nbformat": 4,
 "nbformat_minor": 2
}
